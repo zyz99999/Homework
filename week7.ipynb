{
  "nbformat": 4,
  "nbformat_minor": 0,
  "metadata": {
    "colab": {
      "name": "0417.ipynb",
      "provenance": [],
      "collapsed_sections": [],
      "authorship_tag": "ABX9TyPWh/NubI3kA7FOv5MJy0Dj",
      "include_colab_link": true
    },
    "kernelspec": {
      "name": "python3",
      "display_name": "Python 3"
    }
  },
  "cells": [
    {
      "cell_type": "markdown",
      "metadata": {
        "id": "view-in-github",
        "colab_type": "text"
      },
      "source": [
        "<a href=\"https://colab.research.google.com/github/zyz99999/Homework/blob/master/week7.ipynb\" target=\"_parent\"><img src=\"https://colab.research.google.com/assets/colab-badge.svg\" alt=\"Open In Colab\"/></a>"
      ]
    },
    {
      "cell_type": "code",
      "metadata": {
        "id": "trVaGinOu9F_",
        "colab_type": "code",
        "outputId": "fdfb837f-2f12-4f23-d172-5bca8b015f03",
        "colab": {
          "base_uri": "https://localhost:8080/",
          "height": 51
        }
      },
      "source": [
        "last_id_digit = input('請輸入身分證字號的尾數:')\n",
        "last_id_digit = int(last_id_digit)\n",
        "remainder = last_id_digit % 2\n",
        "#條件判斷(begin)\n",
        "if remainder == 0:\n",
        "   ans = \"偶數\"\n",
        "else:\n",
        "   ans = \"奇數\"\n",
        "#條件判斷(end)\n",
        "print(\"身分證字號尾數除以2餘數為:{}，因此為{}\".format(remainder, ans))"
      ],
      "execution_count": 0,
      "outputs": [
        {
          "output_type": "stream",
          "text": [
            "請輸入身分證字號的尾數:0\n",
            "身分證字號尾數除以2餘數為:0，因此為偶數\n"
          ],
          "name": "stdout"
        }
      ]
    },
    {
      "cell_type": "code",
      "metadata": {
        "id": "LgumB3drxIkq",
        "colab_type": "code",
        "outputId": "37bdd558-91a1-4299-a421-65a984547003",
        "colab": {
          "base_uri": "https://localhost:8080/",
          "height": 51
        }
      },
      "source": [
        "print(ord('A'))\n",
        "print(chr(65))"
      ],
      "execution_count": 0,
      "outputs": [
        {
          "output_type": "stream",
          "text": [
            "65\n",
            "A\n"
          ],
          "name": "stdout"
        }
      ]
    },
    {
      "cell_type": "code",
      "metadata": {
        "id": "JAyrRyTzxgTx",
        "colab_type": "code",
        "outputId": "fa3dbfb2-cfe9-4491-f227-292f8ade607f",
        "colab": {
          "base_uri": "https://localhost:8080/",
          "height": 51
        }
      },
      "source": [
        "print(ord('Z'))\n",
        "print(chr(90))"
      ],
      "execution_count": 0,
      "outputs": [
        {
          "output_type": "stream",
          "text": [
            "90\n",
            "Z\n"
          ],
          "name": "stdout"
        }
      ]
    },
    {
      "cell_type": "code",
      "metadata": {
        "id": "J0OCnN-V1QTX",
        "colab_type": "code",
        "colab": {}
      },
      "source": [
        ""
      ],
      "execution_count": 0,
      "outputs": []
    },
    {
      "cell_type": "code",
      "metadata": {
        "id": "hHBwdiSU2SqG",
        "colab_type": "code",
        "outputId": "3f1fb13d-a412-453d-ae08-1abe3d4dd634",
        "colab": {
          "base_uri": "https://localhost:8080/",
          "height": 51
        }
      },
      "source": [
        "if True:\n",
        "    print(5566)\n",
        "print(7788)"
      ],
      "execution_count": 0,
      "outputs": [
        {
          "output_type": "stream",
          "text": [
            "5566\n",
            "7788\n"
          ],
          "name": "stdout"
        }
      ]
    },
    {
      "cell_type": "code",
      "metadata": {
        "id": "pmNmFqa-2din",
        "colab_type": "code",
        "outputId": "16c68c08-9fea-42dd-b535-98dc6ad0f491",
        "colab": {
          "base_uri": "https://localhost:8080/",
          "height": 34
        }
      },
      "source": [
        "if False:\n",
        "    print(5566)\n",
        "print(7788)"
      ],
      "execution_count": 0,
      "outputs": [
        {
          "output_type": "stream",
          "text": [
            "7788\n"
          ],
          "name": "stdout"
        }
      ]
    },
    {
      "cell_type": "code",
      "metadata": {
        "id": "89TqbFlf6aR9",
        "colab_type": "code",
        "outputId": "94c3b2ec-d2d4-4ce5-87bc-c0df897d75b4",
        "colab": {
          "base_uri": "https://localhost:8080/",
          "height": 68
        }
      },
      "source": [
        "movie_title = input('請輸入電影的名稱')\n",
        "movie_rating = input('請輸入電影的評等')\n",
        "movie_rating = float(movie_rating)\n",
        "\n",
        "if movie_rating > 7:\n",
        "    print(\"{}的評分為 {} 分值得去看!\".format(movie_title, movie_rating))  \n",
        "if movie_rating < 7:\n",
        "    print(\"{}的評分為 {} 分不值得去看，浪費時間!\".format(movie_title, movie_rating))"
      ],
      "execution_count": 0,
      "outputs": [
        {
          "output_type": "stream",
          "text": [
            "請輸入電影的名稱巨齒鯊\n",
            "請輸入電影的評等5.5\n",
            "巨齒鯊的評分為 5.5 分不值得去看，浪費時間!\n"
          ],
          "name": "stdout"
        }
      ]
    },
    {
      "cell_type": "code",
      "metadata": {
        "id": "RNch-1f78yFV",
        "colab_type": "code",
        "outputId": "632f59f2-65ac-473e-b51d-9eeaac7d3bf9",
        "colab": {
          "base_uri": "https://localhost:8080/",
          "height": 102
        }
      },
      "source": [
        "monthly_income = input(\"請輸入月薪:\")\n",
        "saving_account = input(\"請輸入存款\")\n",
        "monthly_income = int(monthly_income)\n",
        "saving_account = int(saving_account)\n",
        "print(type(monthly_income))\n",
        "print(type(saving_account))\n",
        "ans = \"\"\n",
        "#條件判斷(begin)\n",
        "if monthly_income > 40000 or saving_account > 500000:\n",
        "    ans = \"發信用卡\"\n",
        "#條件判斷(end)\n",
        "print(ans)"
      ],
      "execution_count": 0,
      "outputs": [
        {
          "output_type": "stream",
          "text": [
            "請輸入月薪:40001\n",
            "請輸入存款499999\n",
            "<class 'int'>\n",
            "<class 'int'>\n",
            "發信用卡\n"
          ],
          "name": "stdout"
        }
      ]
    },
    {
      "cell_type": "code",
      "metadata": {
        "id": "wy3m03FEDsH6",
        "colab_type": "code",
        "outputId": "079a60fa-90f0-4758-801a-34caf720e85f",
        "colab": {
          "base_uri": "https://localhost:8080/",
          "height": 51
        }
      },
      "source": [
        "user_int = input(\"請輸入一個正整數\")\n",
        "user_int = int(user_int)\n",
        "if user_int %2 == 0:\n",
        "    ans = \"偶數\"\n",
        "else:\n",
        "    ans = \"奇數\"\n",
        "print(ans)"
      ],
      "execution_count": 0,
      "outputs": [
        {
          "output_type": "stream",
          "text": [
            "請輸入一個正整數80\n",
            "偶數\n"
          ],
          "name": "stdout"
        }
      ]
    },
    {
      "cell_type": "code",
      "metadata": {
        "id": "AhfZLQIPFKdi",
        "colab_type": "code",
        "outputId": "c09b3e9a-4f53-4e81-8a6f-f1dbf3cedfcc",
        "colab": {
          "base_uri": "https://localhost:8080/",
          "height": 51
        }
      },
      "source": [
        "user_int = input(\"請輸入一個正整數\")\n",
        "user_int = int(user_int)\n",
        "if user_int %2 == 0:\n",
        "    ans = \"偶數\"\n",
        "else:\n",
        "    ans = \"奇數\"\n",
        "print(ans)"
      ],
      "execution_count": 0,
      "outputs": [
        {
          "output_type": "stream",
          "text": [
            "請輸入一個正整數77\n",
            "奇數\n"
          ],
          "name": "stdout"
        }
      ]
    },
    {
      "cell_type": "code",
      "metadata": {
        "id": "Kd6KieW4IMw_",
        "colab_type": "code",
        "outputId": "b6f71cd7-b535-4a35-fb07-548a9cb34495",
        "colab": {
          "base_uri": "https://localhost:8080/",
          "height": 51
        }
      },
      "source": [
        "last_id_digit = input('請輸入身分證字號的尾數:')\n",
        "last_id_digit = int(last_id_digit)\n",
        "if last_id_digit %2 == 0:\n",
        "    ans = \"星期二四六日領\"\n",
        "else:\n",
        "    ans = \"星期一三五日領\"\n",
        "print(ans)"
      ],
      "execution_count": 0,
      "outputs": [
        {
          "output_type": "stream",
          "text": [
            "請輸入身分證字號的尾數:1\n",
            "星期一三五日領\n"
          ],
          "name": "stdout"
        }
      ]
    },
    {
      "cell_type": "code",
      "metadata": {
        "id": "KInz_FRfJA3f",
        "colab_type": "code",
        "outputId": "27b13335-5703-4219-e0fc-fe9a110970c2",
        "colab": {
          "base_uri": "https://localhost:8080/",
          "height": 51
        }
      },
      "source": [
        "last_id_digit = input('請輸入身分證字號的尾數:')\n",
        "last_id_digit = int(last_id_digit)\n",
        "if last_id_digit %2 == 0:\n",
        "    ans = \"星期二四六日領\"\n",
        "else:\n",
        "    ans = \"星期一三五日領\"\n",
        "print(ans)"
      ],
      "execution_count": 0,
      "outputs": [
        {
          "output_type": "stream",
          "text": [
            "請輸入身分證字號的尾數:6\n",
            "星期二四六日領\n"
          ],
          "name": "stdout"
        }
      ]
    },
    {
      "cell_type": "code",
      "metadata": {
        "id": "-jPqBMt7JEjH",
        "colab_type": "code",
        "outputId": "71fd9161-1837-42a5-c7a3-687863c8f4d7",
        "colab": {
          "base_uri": "https://localhost:8080/",
          "height": 51
        }
      },
      "source": [
        "id_number = input('請輸入身分證字號:')\n",
        "id_last_number = id_number[-1]\n",
        "id_last_number = int(id_last_number)\n",
        "if id_last_number %2 == 0:\n",
        "    ans = \"星期二四六日領\"\n",
        "else:\n",
        "    ans = \"星期一三五日領\"\n",
        "print(ans)"
      ],
      "execution_count": 0,
      "outputs": [
        {
          "output_type": "stream",
          "text": [
            "請輸入身分證字號:C221552040\n",
            "星期二四六日領\n"
          ],
          "name": "stdout"
        }
      ]
    },
    {
      "cell_type": "code",
      "metadata": {
        "id": "RAhHoWQbLDzp",
        "colab_type": "code",
        "outputId": "9b9fbf60-579a-4809-c84f-e06c77a813a2",
        "colab": {
          "base_uri": "https://localhost:8080/",
          "height": 51
        }
      },
      "source": [
        "id_number = input('請輸入身分證字號:')\n",
        "id_second_digit = id_number[1]\n",
        "print(id_second_digit)"
      ],
      "execution_count": 0,
      "outputs": [
        {
          "output_type": "stream",
          "text": [
            "請輸入身分證字號:C221552040\n",
            "2\n"
          ],
          "name": "stdout"
        }
      ]
    },
    {
      "cell_type": "code",
      "metadata": {
        "id": "ScK4EqSGLbBX",
        "colab_type": "code",
        "outputId": "9dcb4c9f-039a-4c50-8083-192053ede73c",
        "colab": {
          "base_uri": "https://localhost:8080/",
          "height": 51
        }
      },
      "source": [
        "id_number = input('請輸入身分證字號:')\n",
        "id_second_digit = id_number[1]\n",
        "if id_second_digit == '1':\n",
        "    gender = \"Male\"\n",
        "else:\n",
        "    gender = \"Female\"\n",
        "print(gender)"
      ],
      "execution_count": 0,
      "outputs": [
        {
          "output_type": "stream",
          "text": [
            "請輸入身分證字號:C221552040\n",
            "Female\n"
          ],
          "name": "stdout"
        }
      ]
    },
    {
      "cell_type": "code",
      "metadata": {
        "id": "E_hb_PUmONjO",
        "colab_type": "code",
        "outputId": "5eff4b67-4b2a-49bd-c0be-1e93edd168a1",
        "colab": {
          "base_uri": "https://localhost:8080/",
          "height": 68
        }
      },
      "source": [
        "movie_title = input('請輸入電影的名稱')\n",
        "movie_rating = input('請輸入電影的評等')\n",
        "movie_rating = float(movie_rating)\n",
        "\n",
        "if movie_rating > 7:\n",
        "    print(\"去電影院看{}\".format(movie_title))  \n",
        "if movie_rating > 6:\n",
        "    print(\"在家裡看{}\".format(movie_title))\n",
        "if movie_rating <= 6:\n",
        "    print(\"不要看{}\".format(movie_title))"
      ],
      "execution_count": 0,
      "outputs": [
        {
          "output_type": "stream",
          "text": [
            "請輸入電影的名稱環大西洋\n",
            "請輸入電影的評等1.9\n",
            "不要看環大西洋\n"
          ],
          "name": "stdout"
        }
      ]
    },
    {
      "cell_type": "code",
      "metadata": {
        "id": "jIEciIfXQJRM",
        "colab_type": "code",
        "outputId": "47e246b1-f87a-4711-cbc7-8ff833784c38",
        "colab": {
          "base_uri": "https://localhost:8080/",
          "height": 68
        }
      },
      "source": [
        "input_height = float(input(\"請輸入身高(公分):\"))\n",
        "input_weight = float(input(\"請輸入體重(公斤):\"))\n",
        "bmi = input_weight / (input_height*0.01)**2\n",
        "if bmi > 30:\n",
        "    label = \"Obese\"\n",
        "if bmi > 25:\n",
        "    label = \"Overweight\"\n",
        "if bmi > 18.5:\n",
        "    label =  \"Normal weight\"\n",
        "else:\n",
        "    label = \"Underweight\"\n",
        "print(label)"
      ],
      "execution_count": 0,
      "outputs": [
        {
          "output_type": "stream",
          "text": [
            "請輸入身高(公分):198\n",
            "請輸入體重(公斤):129\n",
            "Normal weight\n"
          ],
          "name": "stdout"
        }
      ]
    }
  ]
}