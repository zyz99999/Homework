{
  "nbformat": 4,
  "nbformat_minor": 0,
  "metadata": {
    "colab": {
      "name": "week3.ipynb",
      "provenance": [],
      "authorship_tag": "ABX9TyNZZcpM2ORFqOYdlVwJZ4Dh",
      "include_colab_link": true
    },
    "kernelspec": {
      "name": "python3",
      "display_name": "Python 3"
    }
  },
  "cells": [
    {
      "cell_type": "markdown",
      "metadata": {
        "id": "view-in-github",
        "colab_type": "text"
      },
      "source": [
        "<a href=\"https://colab.research.google.com/github/zyz99999/Homework/blob/master/week3.ipynb\" target=\"_parent\"><img src=\"https://colab.research.google.com/assets/colab-badge.svg\" alt=\"Open In Colab\"/></a>"
      ]
    },
    {
      "cell_type": "code",
      "metadata": {
        "id": "W876zNnCUYJ-",
        "colab_type": "code",
        "colab": {}
      },
      "source": [
        "movie_title = \"Avengers: Endgame\"\n",
        "print(movie_title)"
      ],
      "execution_count": 0,
      "outputs": []
    },
    {
      "cell_type": "code",
      "metadata": {
        "id": "uM-e2yh2UlD_",
        "colab_type": "code",
        "colab": {
          "base_uri": "https://localhost:8080/",
          "height": 34
        },
        "outputId": "3ce34723-b32a-4058-b399-958be0b34934"
      },
      "source": [
        "movie_rating = 8.5\n",
        "print(movie_rating)"
      ],
      "execution_count": 1,
      "outputs": [
        {
          "output_type": "stream",
          "text": [
            "8.5\n"
          ],
          "name": "stdout"
        }
      ]
    },
    {
      "cell_type": "code",
      "metadata": {
        "id": "8yYSNCCoVAWR",
        "colab_type": "code",
        "colab": {
          "base_uri": "https://localhost:8080/",
          "height": 34
        },
        "outputId": "9f363c44-7d7e-4a10-eacc-3a44940f66b6"
      },
      "source": [
        "movie_time = 181\n",
        "print(movie_time)"
      ],
      "execution_count": 2,
      "outputs": [
        {
          "output_type": "stream",
          "text": [
            "181\n"
          ],
          "name": "stdout"
        }
      ]
    },
    {
      "cell_type": "code",
      "metadata": {
        "id": "fGFxyWl4VRw_",
        "colab_type": "code",
        "colab": {
          "base_uri": "https://localhost:8080/",
          "height": 118
        },
        "outputId": "40188371-e605-403d-8748-8285dadcb439"
      },
      "source": [
        "movie_title = \"Avengers: Endgame\"\n",
        "movie_length = 181\n",
        "movie_rating = 8.5\n",
        "\n",
        "print(movie_title)\n",
        "print(movie_length)\n",
        "print(movie_rating)\n",
        "\n",
        "print(type(movie_title))\n",
        "print(type(movie_length))\n",
        "print(type(movie_rating))"
      ],
      "execution_count": 4,
      "outputs": [
        {
          "output_type": "stream",
          "text": [
            "Avengers: Endgame\n",
            "181\n",
            "8.5\n",
            "<class 'str'>\n",
            "<class 'int'>\n",
            "<class 'float'>\n"
          ],
          "name": "stdout"
        }
      ]
    }
  ]
}