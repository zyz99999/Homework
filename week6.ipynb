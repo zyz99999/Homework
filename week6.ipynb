{
  "nbformat": 4,
  "nbformat_minor": 0,
  "metadata": {
    "colab": {
      "name": "week6.ipynb",
      "provenance": [],
      "authorship_tag": "ABX9TyNy73WQfl8ZGxr/aEvlmiQn",
      "include_colab_link": true
    },
    "kernelspec": {
      "name": "python3",
      "display_name": "Python 3"
    }
  },
  "cells": [
    {
      "cell_type": "markdown",
      "metadata": {
        "id": "view-in-github",
        "colab_type": "text"
      },
      "source": [
        "<a href=\"https://colab.research.google.com/github/zyz99999/Homework/blob/master/week6.ipynb\" target=\"_parent\"><img src=\"https://colab.research.google.com/assets/colab-badge.svg\" alt=\"Open In Colab\"/></a>"
      ]
    },
    {
      "cell_type": "code",
      "metadata": {
        "id": "xGu0oPAQhjgZ",
        "colab_type": "code",
        "colab": {
          "base_uri": "https://localhost:8080/",
          "height": 50
        },
        "outputId": "22864baa-dfc2-4d12-9c82-976585ee9b89"
      },
      "source": [
        "print(False) # off\n",
        "print(True) # on"
      ],
      "execution_count": 1,
      "outputs": [
        {
          "output_type": "stream",
          "text": [
            "False\n",
            "True\n"
          ],
          "name": "stdout"
        }
      ]
    },
    {
      "cell_type": "code",
      "metadata": {
        "id": "TDMihjNzhsUU",
        "colab_type": "code",
        "colab": {
          "base_uri": "https://localhost:8080/",
          "height": 50
        },
        "outputId": "177040a3-f8ae-4178-836f-e6b4392a1b4a"
      },
      "source": [
        "print(7.7 > 8)\n",
        "print(7.7 > 7)"
      ],
      "execution_count": 2,
      "outputs": [
        {
          "output_type": "stream",
          "text": [
            "False\n",
            "True\n"
          ],
          "name": "stdout"
        }
      ]
    },
    {
      "cell_type": "code",
      "metadata": {
        "id": "0KsfzidCiC-8",
        "colab_type": "code",
        "colab": {
          "base_uri": "https://localhost:8080/",
          "height": 50
        },
        "outputId": "a4bf90db-2d87-4b17-e0bc-983f7b5cf889"
      },
      "source": [
        "print(type(False))\n",
        "print(type(True))"
      ],
      "execution_count": 3,
      "outputs": [
        {
          "output_type": "stream",
          "text": [
            "<class 'bool'>\n",
            "<class 'bool'>\n"
          ],
          "name": "stdout"
        }
      ]
    },
    {
      "cell_type": "code",
      "metadata": {
        "id": "g8qkzEXQiE0X",
        "colab_type": "code",
        "colab": {
          "base_uri": "https://localhost:8080/",
          "height": 50
        },
        "outputId": "be12f5c9-9428-4c33-d57d-565894baae4f"
      },
      "source": [
        "print(type(7.7 > 8))\n",
        "print(type(7.7 > 7))"
      ],
      "execution_count": 4,
      "outputs": [
        {
          "output_type": "stream",
          "text": [
            "<class 'bool'>\n",
            "<class 'bool'>\n"
          ],
          "name": "stdout"
        }
      ]
    },
    {
      "cell_type": "code",
      "metadata": {
        "id": "xs8TvatjiHeH",
        "colab_type": "code",
        "colab": {
          "base_uri": "https://localhost:8080/",
          "height": 50
        },
        "outputId": "b281f13e-6adf-4a56-8148-cbc7a293aff0"
      },
      "source": [
        "print(7.7 == 8)\n",
        "print(7.7 != 8)"
      ],
      "execution_count": 5,
      "outputs": [
        {
          "output_type": "stream",
          "text": [
            "False\n",
            "True\n"
          ],
          "name": "stdout"
        }
      ]
    },
    {
      "cell_type": "code",
      "metadata": {
        "id": "SyAinTIGiJoj",
        "colab_type": "code",
        "colab": {
          "base_uri": "https://localhost:8080/",
          "height": 34
        },
        "outputId": "7c2095f8-d18e-4586-8998-db4774096b86"
      },
      "source": [
        "id_last_digit = 9\n",
        "id_last_digit % 2 != 0"
      ],
      "execution_count": 6,
      "outputs": [
        {
          "output_type": "execute_result",
          "data": {
            "text/plain": [
              "True"
            ]
          },
          "metadata": {
            "tags": []
          },
          "execution_count": 6
        }
      ]
    },
    {
      "cell_type": "code",
      "metadata": {
        "id": "WdRhznqmiO-k",
        "colab_type": "code",
        "colab": {
          "base_uri": "https://localhost:8080/",
          "height": 67
        },
        "outputId": "4f054171-9a60-4d27-f5df-fb0397dd2817"
      },
      "source": [
        "print(5566.00 == 5566)\n",
        "print(type(5566.00))\n",
        "print(type(5566))"
      ],
      "execution_count": 7,
      "outputs": [
        {
          "output_type": "stream",
          "text": [
            "True\n",
            "<class 'float'>\n",
            "<class 'int'>\n"
          ],
          "name": "stdout"
        }
      ]
    },
    {
      "cell_type": "code",
      "metadata": {
        "id": "CKpocdO4iSl8",
        "colab_type": "code",
        "colab": {
          "base_uri": "https://localhost:8080/",
          "height": 67
        },
        "outputId": "2fd9d0f2-192d-45b6-de0d-5f9249d3dac8"
      },
      "source": [
        "city = input(\"請輸入您所在的城市：\")\n",
        "weather = input(\"請輸入現在的天氣：\")\n",
        "print(\"我在{}，天氣{}\".format(city, weather))"
      ],
      "execution_count": 9,
      "outputs": [
        {
          "output_type": "stream",
          "text": [
            "請輸入您所在的城市：Taipei\n",
            "請輸入現在的天氣：Sunny\n",
            "我在Taipei，天氣Sunny\n"
          ],
          "name": "stdout"
        }
      ]
    },
    {
      "cell_type": "code",
      "metadata": {
        "id": "xhszd05tipv9",
        "colab_type": "code",
        "colab": {
          "base_uri": "https://localhost:8080/",
          "height": 84
        },
        "outputId": "0017535e-d026-46db-f87a-ada4fc71a7a9"
      },
      "source": [
        "city = input(\"請輸入您所在的城市：\")\n",
        "weather = input(\"請輸入現在的天氣：\")\n",
        "tempc = input(\"請輸入現在的攝氏氣溫：\")\n",
        "tempc = int(tempc)\n",
        "tempf = tempc*9/5 + 32\n",
        "\n",
        "print(\"我在{}，天氣{}，攝氏{}度，華氏{}度\".format(city, weather, tempc, tempf))"
      ],
      "execution_count": 11,
      "outputs": [
        {
          "output_type": "stream",
          "text": [
            "請輸入您所在的城市：台北\n",
            "請輸入現在的天氣：晴\n",
            "請輸入現在的攝氏氣溫：26\n",
            "我在台北，天氣晴，攝氏26度，華氏78.8度\n"
          ],
          "name": "stdout"
        }
      ]
    },
    {
      "cell_type": "code",
      "metadata": {
        "id": "xTNs0y8xixeE",
        "colab_type": "code",
        "colab": {
          "base_uri": "https://localhost:8080/",
          "height": 84
        },
        "outputId": "5ea2d76a-690f-45a5-ea15-91085013a578"
      },
      "source": [
        "id_last_digit = input(\"請輸入您身分證字號的尾數：\")\n",
        "id_last_digit = int(id_last_digit)\n",
        "print(id_last_digit)\n",
        "print(type(id_last_digit))\n",
        "modulo = id_last_digit % 2\n",
        "ans = modulo == 1\n",
        "print(ans)"
      ],
      "execution_count": 12,
      "outputs": [
        {
          "output_type": "stream",
          "text": [
            "請輸入您身分證字號的尾數：0\n",
            "0\n",
            "<class 'int'>\n",
            "False\n"
          ],
          "name": "stdout"
        }
      ]
    }
  ]
}