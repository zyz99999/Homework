{
  "nbformat": 4,
  "nbformat_minor": 0,
  "metadata": {
    "colab": {
      "name": "week10.ipynb",
      "provenance": [],
      "authorship_tag": "ABX9TyNI1Y+h8PAjadB7l4vSwZ4G",
      "include_colab_link": true
    },
    "kernelspec": {
      "name": "python3",
      "display_name": "Python 3"
    }
  },
  "cells": [
    {
      "cell_type": "markdown",
      "metadata": {
        "id": "view-in-github",
        "colab_type": "text"
      },
      "source": [
        "<a href=\"https://colab.research.google.com/github/zyz99999/Homework/blob/master/week10.ipynb\" target=\"_parent\"><img src=\"https://colab.research.google.com/assets/colab-badge.svg\" alt=\"Open In Colab\"/></a>"
      ]
    },
    {
      "cell_type": "code",
      "metadata": {
        "id": "jfD4ys59nTn4",
        "colab_type": "code",
        "colab": {}
      },
      "source": [
        "# variable vs. value: 1-on-1\n",
        "lucky_num_0 = 7\n",
        "lucky_num_1 = 24\n",
        "lucky_num_2 = 5566"
      ],
      "execution_count": 0,
      "outputs": []
    },
    {
      "cell_type": "code",
      "metadata": {
        "id": "f57WcvVvnfyo",
        "colab_type": "code",
        "colab": {}
      },
      "source": [
        "# variable vs. values: 1-on-multiple\n",
        "lucky_numbers = [7, 24, 5566]"
      ],
      "execution_count": 0,
      "outputs": []
    },
    {
      "cell_type": "code",
      "metadata": {
        "id": "sbzQd1VtnhuU",
        "colab_type": "code",
        "colab": {}
      },
      "source": [
        "# variable vs. value: 1-on-1\n",
        "sat = \"Saturday\"\n",
        "sun = \"Sunday\""
      ],
      "execution_count": 0,
      "outputs": []
    },
    {
      "cell_type": "code",
      "metadata": {
        "id": "q0fJosaEnj0j",
        "colab_type": "code",
        "colab": {}
      },
      "source": [
        "# variable vs. values: 1-on-multiple\n",
        "weekend = [\"Saturday\", \"Sunday\"]\n",
        "weekdays = [\"Monday\", \"Tuesday\", \"Wednesday\", \"Thursday\", \"Friday\"]"
      ],
      "execution_count": 0,
      "outputs": []
    },
    {
      "cell_type": "code",
      "metadata": {
        "id": "G52FE_QEn3qF",
        "colab_type": "code",
        "colab": {
          "base_uri": "https://localhost:8080/",
          "height": 34
        },
        "outputId": "16fe18be-5be3-42cc-a308-a3792c87c38e"
      },
      "source": [
        "print(type(lucky_numbers))"
      ],
      "execution_count": 7,
      "outputs": [
        {
          "output_type": "stream",
          "text": [
            "<class 'list'>\n"
          ],
          "name": "stdout"
        }
      ]
    },
    {
      "cell_type": "code",
      "metadata": {
        "id": "gskFsgAgn5h7",
        "colab_type": "code",
        "colab": {
          "base_uri": "https://localhost:8080/",
          "height": 34
        },
        "outputId": "0fedc0f4-12a9-4f36-afba-d55979d6c5b7"
      },
      "source": [
        "print(type(weekend))"
      ],
      "execution_count": 8,
      "outputs": [
        {
          "output_type": "stream",
          "text": [
            "<class 'list'>\n"
          ],
          "name": "stdout"
        }
      ]
    },
    {
      "cell_type": "code",
      "metadata": {
        "id": "v_iDTk9dn8zj",
        "colab_type": "code",
        "colab": {
          "base_uri": "https://localhost:8080/",
          "height": 34
        },
        "outputId": "48d54534-249e-4478-d35d-79c2fa803dad"
      },
      "source": [
        "print(type(weekdays))"
      ],
      "execution_count": 9,
      "outputs": [
        {
          "output_type": "stream",
          "text": [
            "<class 'list'>\n"
          ],
          "name": "stdout"
        }
      ]
    },
    {
      "cell_type": "code",
      "metadata": {
        "id": "WsmBaPizn-et",
        "colab_type": "code",
        "colab": {
          "base_uri": "https://localhost:8080/",
          "height": 67
        },
        "outputId": "ddbc8864-2bfa-45e3-fe61-4790eeb37bdb"
      },
      "source": [
        "print(len(lucky_numbers))\n",
        "print(len(weekend))\n",
        "print(len(weekdays))"
      ],
      "execution_count": 10,
      "outputs": [
        {
          "output_type": "stream",
          "text": [
            "3\n",
            "2\n",
            "5\n"
          ],
          "name": "stdout"
        }
      ]
    },
    {
      "cell_type": "code",
      "metadata": {
        "id": "HkM3A70woBPb",
        "colab_type": "code",
        "colab": {
          "base_uri": "https://localhost:8080/",
          "height": 34
        },
        "outputId": "a1758c7b-d796-425d-ac1d-7b2fa4f7856d"
      },
      "source": [
        "my_fav_weekday = \"Friday\"\n",
        "print(\"My favorite weekday is {}.\".format(my_fav_weekday))"
      ],
      "execution_count": 11,
      "outputs": [
        {
          "output_type": "stream",
          "text": [
            "My favorite weekday is Friday.\n"
          ],
          "name": "stdout"
        }
      ]
    },
    {
      "cell_type": "code",
      "metadata": {
        "id": "w06Sfb4boCSj",
        "colab_type": "code",
        "colab": {
          "base_uri": "https://localhost:8080/",
          "height": 50
        },
        "outputId": "408f9188-ded9-438f-97e9-3db0be373d13"
      },
      "source": [
        "print(lucky_numbers)\n",
        "lucky_numbers.append(87)\n",
        "print(lucky_numbers)"
      ],
      "execution_count": 12,
      "outputs": [
        {
          "output_type": "stream",
          "text": [
            "[7, 24, 5566]\n",
            "[7, 24, 5566, 87]\n"
          ],
          "name": "stdout"
        }
      ]
    },
    {
      "cell_type": "code",
      "metadata": {
        "id": "7XvbnW3EoGL8",
        "colab_type": "code",
        "colab": {
          "base_uri": "https://localhost:8080/",
          "height": 50
        },
        "outputId": "a3936be1-7594-4a59-8308-2d2a5b708a1a"
      },
      "source": [
        "print(lucky_numbers)\n",
        "lucky_numbers.pop()\n",
        "print(lucky_numbers)"
      ],
      "execution_count": 13,
      "outputs": [
        {
          "output_type": "stream",
          "text": [
            "[7, 24, 5566, 87]\n",
            "[7, 24, 5566]\n"
          ],
          "name": "stdout"
        }
      ]
    },
    {
      "cell_type": "code",
      "metadata": {
        "id": "LSwa6buUoKtk",
        "colab_type": "code",
        "colab": {
          "base_uri": "https://localhost:8080/",
          "height": 50
        },
        "outputId": "d7dd8ddb-a53f-493e-8dd6-be862326076a"
      },
      "source": [
        "print(weekdays)\n",
        "print(weekend)"
      ],
      "execution_count": 14,
      "outputs": [
        {
          "output_type": "stream",
          "text": [
            "['Monday', 'Tuesday', 'Wednesday', 'Thursday', 'Friday']\n",
            "['Saturday', 'Sunday']\n"
          ],
          "name": "stdout"
        }
      ]
    },
    {
      "cell_type": "code",
      "metadata": {
        "id": "mbR2j8wroPiJ",
        "colab_type": "code",
        "colab": {
          "base_uri": "https://localhost:8080/",
          "height": 34
        },
        "outputId": "ef1ac94d-0ddb-4995-a92d-1570eaf2daf9"
      },
      "source": [
        "weekdays + weekend"
      ],
      "execution_count": 15,
      "outputs": [
        {
          "output_type": "execute_result",
          "data": {
            "text/plain": [
              "['Monday', 'Tuesday', 'Wednesday', 'Thursday', 'Friday', 'Saturday', 'Sunday']"
            ]
          },
          "metadata": {
            "tags": []
          },
          "execution_count": 15
        }
      ]
    },
    {
      "cell_type": "code",
      "metadata": {
        "id": "MNm0wACaoRmG",
        "colab_type": "code",
        "colab": {
          "base_uri": "https://localhost:8080/",
          "height": 34
        },
        "outputId": "70e87d4a-c3be-4410-a485-f77af8e491cf"
      },
      "source": [
        "weekend + weekdays"
      ],
      "execution_count": 16,
      "outputs": [
        {
          "output_type": "execute_result",
          "data": {
            "text/plain": [
              "['Saturday', 'Sunday', 'Monday', 'Tuesday', 'Wednesday', 'Thursday', 'Friday']"
            ]
          },
          "metadata": {
            "tags": []
          },
          "execution_count": 16
        }
      ]
    },
    {
      "cell_type": "code",
      "metadata": {
        "id": "-4XSQZnfoWFd",
        "colab_type": "code",
        "colab": {
          "base_uri": "https://localhost:8080/",
          "height": 101
        },
        "outputId": "b7a985bc-e635-492c-d4ac-0b28f0fce3bc"
      },
      "source": [
        "print(weekdays[0])\n",
        "print(weekdays[1])\n",
        "print(weekdays[2])\n",
        "print(weekdays[3])\n",
        "print(weekdays[4])"
      ],
      "execution_count": 17,
      "outputs": [
        {
          "output_type": "stream",
          "text": [
            "Monday\n",
            "Tuesday\n",
            "Wednesday\n",
            "Thursday\n",
            "Friday\n"
          ],
          "name": "stdout"
        }
      ]
    },
    {
      "cell_type": "code",
      "metadata": {
        "id": "jmhA7LI1oY24",
        "colab_type": "code",
        "colab": {
          "base_uri": "https://localhost:8080/",
          "height": 101
        },
        "outputId": "d7e5c746-dc83-4fec-d129-8b8e324c2234"
      },
      "source": [
        "i = 0\n",
        "while i < 5:\n",
        "    print(weekdays[i])\n",
        "    i += 1"
      ],
      "execution_count": 18,
      "outputs": [
        {
          "output_type": "stream",
          "text": [
            "Monday\n",
            "Tuesday\n",
            "Wednesday\n",
            "Thursday\n",
            "Friday\n"
          ],
          "name": "stdout"
        }
      ]
    },
    {
      "cell_type": "code",
      "metadata": {
        "id": "pdQeFEMUofBs",
        "colab_type": "code",
        "colab": {
          "base_uri": "https://localhost:8080/",
          "height": 50
        },
        "outputId": "652eecf3-f966-43b4-bbbf-7dc762ebb23d"
      },
      "source": [
        "i = 0\n",
        "while i < len(weekend):\n",
        "    print(weekend[i])\n",
        "    i += 1"
      ],
      "execution_count": 19,
      "outputs": [
        {
          "output_type": "stream",
          "text": [
            "Saturday\n",
            "Sunday\n"
          ],
          "name": "stdout"
        }
      ]
    },
    {
      "cell_type": "code",
      "metadata": {
        "id": "1Ncc4fkfoiOO",
        "colab_type": "code",
        "colab": {
          "base_uri": "https://localhost:8080/",
          "height": 101
        },
        "outputId": "349deed5-1986-4d99-b69e-23e7770d7ae8"
      },
      "source": [
        "print(weekdays[-1])\n",
        "print(weekdays[-2])\n",
        "print(weekdays[-3])\n",
        "print(weekdays[-4])\n",
        "print(weekdays[-5])"
      ],
      "execution_count": 20,
      "outputs": [
        {
          "output_type": "stream",
          "text": [
            "Friday\n",
            "Thursday\n",
            "Wednesday\n",
            "Tuesday\n",
            "Monday\n"
          ],
          "name": "stdout"
        }
      ]
    },
    {
      "cell_type": "code",
      "metadata": {
        "id": "xxO1P2R2okbM",
        "colab_type": "code",
        "colab": {
          "base_uri": "https://localhost:8080/",
          "height": 101
        },
        "outputId": "56726157-a06d-4869-b8f9-5e3eaa8883b6"
      },
      "source": [
        "i = -1\n",
        "while i >= -5:\n",
        "    print(weekdays[i])\n",
        "    i -= 1"
      ],
      "execution_count": 21,
      "outputs": [
        {
          "output_type": "stream",
          "text": [
            "Friday\n",
            "Thursday\n",
            "Wednesday\n",
            "Tuesday\n",
            "Monday\n"
          ],
          "name": "stdout"
        }
      ]
    },
    {
      "cell_type": "code",
      "metadata": {
        "id": "3_YsW068om6g",
        "colab_type": "code",
        "colab": {}
      },
      "source": [
        "import requests\n",
        "from bs4 import BeautifulSoup\n",
        "\n",
        "response = requests.get('https://www.imdb.com/title/tt4154796/')\n",
        "soup = BeautifulSoup(response.text)"
      ],
      "execution_count": 0,
      "outputs": []
    },
    {
      "cell_type": "code",
      "metadata": {
        "id": "-TH6Bk81or0d",
        "colab_type": "code",
        "colab": {
          "base_uri": "https://localhost:8080/",
          "height": 34
        },
        "outputId": "1b4fda45-973a-4375-d67c-76e840c10aaf"
      },
      "source": [
        "cast_list_a = soup.select(\"#titleCast .loadlate\")\n",
        "print(len(cast_list_a))"
      ],
      "execution_count": 24,
      "outputs": [
        {
          "output_type": "stream",
          "text": [
            "15\n"
          ],
          "name": "stdout"
        }
      ]
    },
    {
      "cell_type": "code",
      "metadata": {
        "id": "a4O32cWYouWV",
        "colab_type": "code",
        "colab": {
          "base_uri": "https://localhost:8080/",
          "height": 67
        },
        "outputId": "7ae56b34-fcca-41c4-d0c9-bdf4575b8b20"
      },
      "source": [
        "cast_list = []\n",
        "print(cast_list)\n",
        "print(type(cast_list))\n",
        "print(len(cast_list))"
      ],
      "execution_count": 25,
      "outputs": [
        {
          "output_type": "stream",
          "text": [
            "[]\n",
            "<class 'list'>\n",
            "0\n"
          ],
          "name": "stdout"
        }
      ]
    },
    {
      "cell_type": "code",
      "metadata": {
        "id": "JZuMxG2fpfTn",
        "colab_type": "code",
        "colab": {
          "base_uri": "https://localhost:8080/",
          "height": 34
        },
        "outputId": "d255ff17-c0da-4c5e-9024-daf05a33165a"
      },
      "source": [
        "actor_0 = cast_list_a[0].get('alt').strip()\n",
        "cast_list.append(actor_0)\n",
        "print(cast_list)"
      ],
      "execution_count": 36,
      "outputs": [
        {
          "output_type": "stream",
          "text": [
            "['Chris Evans', 'Robert Downey Jr.']\n"
          ],
          "name": "stdout"
        }
      ]
    },
    {
      "cell_type": "code",
      "metadata": {
        "id": "LF2iO8sqo11N",
        "colab_type": "code",
        "colab": {
          "base_uri": "https://localhost:8080/",
          "height": 34
        },
        "outputId": "fc03fdf6-4126-4055-8a8b-9442b4b3074e"
      },
      "source": [
        "actor_1 = cast_list_a[1].get('alt').strip()\n",
        "cast_list.append(actor_1)\n",
        "print(cast_list)"
      ],
      "execution_count": 26,
      "outputs": [
        {
          "output_type": "stream",
          "text": [
            "['Chris Evans']\n"
          ],
          "name": "stdout"
        }
      ]
    },
    {
      "cell_type": "code",
      "metadata": {
        "id": "Juq3JcCMo6do",
        "colab_type": "code",
        "colab": {
          "base_uri": "https://localhost:8080/",
          "height": 67
        },
        "outputId": "acd8d640-1bc7-49cc-a94c-e74acda2f6b2"
      },
      "source": [
        "cast = []\n",
        "print(cast)\n",
        "print(type(cast))\n",
        "print(len(cast))"
      ],
      "execution_count": 28,
      "outputs": [
        {
          "output_type": "stream",
          "text": [
            "[]\n",
            "<class 'list'>\n",
            "0\n"
          ],
          "name": "stdout"
        }
      ]
    },
    {
      "cell_type": "code",
      "metadata": {
        "id": "Gtvtz2Wmo_9q",
        "colab_type": "code",
        "colab": {}
      },
      "source": [
        "i = 0\n",
        "while i < len(cast_list_a):\n",
        "    actor = cast_list_a[i].get('alt').strip()\n",
        "    cast.append(actor)\n",
        "    i += 1"
      ],
      "execution_count": 0,
      "outputs": []
    },
    {
      "cell_type": "code",
      "metadata": {
        "id": "7eVp_lbBpUKP",
        "colab_type": "code",
        "colab": {
          "base_uri": "https://localhost:8080/",
          "height": 54
        },
        "outputId": "2998d346-9de9-4c2d-acb2-e50cec6445e2"
      },
      "source": [
        "print(cast)"
      ],
      "execution_count": 33,
      "outputs": [
        {
          "output_type": "stream",
          "text": [
            "['Robert Downey Jr.', 'Chris Evans', 'Mark Ruffalo', 'Chris Hemsworth', 'Scarlett Johansson', 'Jeremy Renner', 'Don Cheadle', 'Paul Rudd', 'Benedict Cumberbatch', 'Chadwick Boseman', 'Brie Larson', 'Tom Holland', 'Karen Gillan', 'Zoe Saldana', 'Evangeline Lilly', 'Robert Downey Jr.', 'Chris Evans', 'Mark Ruffalo', 'Chris Hemsworth', 'Scarlett Johansson', 'Jeremy Renner', 'Don Cheadle', 'Paul Rudd', 'Benedict Cumberbatch', 'Chadwick Boseman', 'Brie Larson', 'Tom Holland', 'Karen Gillan', 'Zoe Saldana', 'Evangeline Lilly', 'Robert Downey Jr.', 'Chris Evans', 'Mark Ruffalo', 'Chris Hemsworth', 'Scarlett Johansson', 'Jeremy Renner', 'Don Cheadle', 'Paul Rudd', 'Benedict Cumberbatch', 'Chadwick Boseman', 'Brie Larson', 'Tom Holland', 'Karen Gillan', 'Zoe Saldana', 'Evangeline Lilly']\n"
          ],
          "name": "stdout"
        }
      ]
    },
    {
      "cell_type": "code",
      "metadata": {
        "id": "shtOhxn-pV4U",
        "colab_type": "code",
        "colab": {
          "base_uri": "https://localhost:8080/",
          "height": 50
        },
        "outputId": "a4da8095-dad2-45ea-e084-2c9c212b657b"
      },
      "source": [
        "print(cast[8])\n",
        "print(cast[-7])"
      ],
      "execution_count": 34,
      "outputs": [
        {
          "output_type": "stream",
          "text": [
            "Benedict Cumberbatch\n",
            "Benedict Cumberbatch\n"
          ],
          "name": "stdout"
        }
      ]
    },
    {
      "cell_type": "code",
      "metadata": {
        "id": "XvINDZttpZfX",
        "colab_type": "code",
        "colab": {
          "base_uri": "https://localhost:8080/",
          "height": 50
        },
        "outputId": "fe6da634-f118-4928-e259-034046e0062b"
      },
      "source": [
        "print(len(cast))\n",
        "print(cast[:6])"
      ],
      "execution_count": 37,
      "outputs": [
        {
          "output_type": "stream",
          "text": [
            "45\n",
            "['Robert Downey Jr.', 'Chris Evans', 'Mark Ruffalo', 'Chris Hemsworth', 'Scarlett Johansson', 'Jeremy Renner']\n"
          ],
          "name": "stdout"
        }
      ]
    },
    {
      "cell_type": "code",
      "metadata": {
        "id": "cMAqIF3jpl_V",
        "colab_type": "code",
        "colab": {
          "base_uri": "https://localhost:8080/",
          "height": 70
        },
        "outputId": "8177b67a-4da9-4334-b0cf-6e426a39d87d"
      },
      "source": [
        "import pandas as pd\n",
        "\n",
        "time_series_df = pd.read_csv(\"https://raw.githubusercontent.com/CSSEGISandData/COVID-19/master/csse_covid_19_data/csse_covid_19_time_series/time_series_covid19_confirmed_global.csv\")\n",
        "cumulative_confirmed = list(time_series_df[time_series_df['Country/Region'] == 'Taiwan*'].values.ravel()[4:].astype(int))\n",
        "cumulative_confirmed_lag = list(time_series_df[time_series_df['Country/Region'] == 'Taiwan*'].values.ravel()[4:].astype(int))\n",
        "print(cumulative_confirmed)\n",
        "print(cumulative_confirmed_lag)"
      ],
      "execution_count": 38,
      "outputs": [
        {
          "output_type": "stream",
          "text": [
            "[1, 1, 3, 3, 4, 5, 8, 8, 9, 10, 10, 10, 10, 11, 11, 16, 16, 17, 18, 18, 18, 18, 18, 18, 18, 20, 22, 22, 23, 24, 26, 26, 28, 30, 31, 32, 32, 34, 39, 40, 41, 42, 42, 44, 45, 45, 45, 45, 47, 48, 49, 50, 53, 59, 67, 77, 100, 108, 135, 153, 169, 195, 215, 235, 252, 267, 283, 298, 306, 322, 329, 339, 348, 355, 363, 373, 376, 379, 380, 382, 385, 388, 393, 393, 395, 395, 395, 398, 420, 422, 425, 426, 427, 428, 429, 429, 429, 429, 429, 429, 429, 432, 436, 438, 438, 439, 440, 440, 440, 440, 440, 440, 440, 440, 440, 440, 440, 440, 440, 440, 440, 441, 441, 441, 441, 441, 441, 441, 442, 442, 442]\n",
            "[1, 1, 3, 3, 4, 5, 8, 8, 9, 10, 10, 10, 10, 11, 11, 16, 16, 17, 18, 18, 18, 18, 18, 18, 18, 20, 22, 22, 23, 24, 26, 26, 28, 30, 31, 32, 32, 34, 39, 40, 41, 42, 42, 44, 45, 45, 45, 45, 47, 48, 49, 50, 53, 59, 67, 77, 100, 108, 135, 153, 169, 195, 215, 235, 252, 267, 283, 298, 306, 322, 329, 339, 348, 355, 363, 373, 376, 379, 380, 382, 385, 388, 393, 393, 395, 395, 395, 398, 420, 422, 425, 426, 427, 428, 429, 429, 429, 429, 429, 429, 429, 432, 436, 438, 438, 439, 440, 440, 440, 440, 440, 440, 440, 440, 440, 440, 440, 440, 440, 440, 440, 441, 441, 441, 441, 441, 441, 441, 442, 442, 442]\n"
          ],
          "name": "stdout"
        }
      ]
    },
    {
      "cell_type": "code",
      "metadata": {
        "id": "DIzV933ypviP",
        "colab_type": "code",
        "colab": {
          "base_uri": "https://localhost:8080/",
          "height": 50
        },
        "outputId": "b118d655-2963-45aa-ac3c-8013f16b9fa4"
      },
      "source": [
        "print(len(cumulative_confirmed))\n",
        "print(cumulative_confirmed[-1])"
      ],
      "execution_count": 39,
      "outputs": [
        {
          "output_type": "stream",
          "text": [
            "131\n",
            "442\n"
          ],
          "name": "stdout"
        }
      ]
    },
    {
      "cell_type": "code",
      "metadata": {
        "id": "w9V2ZRBQpzew",
        "colab_type": "code",
        "colab": {
          "base_uri": "https://localhost:8080/",
          "height": 50
        },
        "outputId": "aa880829-452a-4248-8075-be4e01eb2e83"
      },
      "source": [
        "cumulative_confirmed_lag.insert(0, 0)\n",
        "print(len(cumulative_confirmed_lag))\n",
        "print(cumulative_confirmed_lag[0])"
      ],
      "execution_count": 40,
      "outputs": [
        {
          "output_type": "stream",
          "text": [
            "132\n",
            "0\n"
          ],
          "name": "stdout"
        }
      ]
    },
    {
      "cell_type": "code",
      "metadata": {
        "id": "iDkGS2BDp33E",
        "colab_type": "code",
        "colab": {
          "base_uri": "https://localhost:8080/",
          "height": 70
        },
        "outputId": "ad8689ea-5208-4125-aace-3ce9cb6978b7"
      },
      "source": [
        "print(cumulative_confirmed)\n",
        "print(cumulative_confirmed_lag)"
      ],
      "execution_count": 41,
      "outputs": [
        {
          "output_type": "stream",
          "text": [
            "[1, 1, 3, 3, 4, 5, 8, 8, 9, 10, 10, 10, 10, 11, 11, 16, 16, 17, 18, 18, 18, 18, 18, 18, 18, 20, 22, 22, 23, 24, 26, 26, 28, 30, 31, 32, 32, 34, 39, 40, 41, 42, 42, 44, 45, 45, 45, 45, 47, 48, 49, 50, 53, 59, 67, 77, 100, 108, 135, 153, 169, 195, 215, 235, 252, 267, 283, 298, 306, 322, 329, 339, 348, 355, 363, 373, 376, 379, 380, 382, 385, 388, 393, 393, 395, 395, 395, 398, 420, 422, 425, 426, 427, 428, 429, 429, 429, 429, 429, 429, 429, 432, 436, 438, 438, 439, 440, 440, 440, 440, 440, 440, 440, 440, 440, 440, 440, 440, 440, 440, 440, 441, 441, 441, 441, 441, 441, 441, 442, 442, 442]\n",
            "[0, 1, 1, 3, 3, 4, 5, 8, 8, 9, 10, 10, 10, 10, 11, 11, 16, 16, 17, 18, 18, 18, 18, 18, 18, 18, 20, 22, 22, 23, 24, 26, 26, 28, 30, 31, 32, 32, 34, 39, 40, 41, 42, 42, 44, 45, 45, 45, 45, 47, 48, 49, 50, 53, 59, 67, 77, 100, 108, 135, 153, 169, 195, 215, 235, 252, 267, 283, 298, 306, 322, 329, 339, 348, 355, 363, 373, 376, 379, 380, 382, 385, 388, 393, 393, 395, 395, 395, 398, 420, 422, 425, 426, 427, 428, 429, 429, 429, 429, 429, 429, 429, 432, 436, 438, 438, 439, 440, 440, 440, 440, 440, 440, 440, 440, 440, 440, 440, 440, 440, 440, 440, 441, 441, 441, 441, 441, 441, 441, 442, 442, 442]\n"
          ],
          "name": "stdout"
        }
      ]
    },
    {
      "cell_type": "code",
      "metadata": {
        "id": "ZYy8EHrHp5FQ",
        "colab_type": "code",
        "colab": {}
      },
      "source": [
        "daily_increase = []"
      ],
      "execution_count": 0,
      "outputs": []
    },
    {
      "cell_type": "code",
      "metadata": {
        "id": "CGqbjsXZp8sp",
        "colab_type": "code",
        "colab": {
          "base_uri": "https://localhost:8080/",
          "height": 34
        },
        "outputId": "6c93f89b-09d8-4bb9-8b9c-cb65668a9288"
      },
      "source": [
        "#daily_increase = ?\n",
        "day0_increase = cumulative_confirmed[0] - cumulative_confirmed_lag[0]\n",
        "print(day0_increase)\n",
        "daily_increase.append(day0_increase)"
      ],
      "execution_count": 43,
      "outputs": [
        {
          "output_type": "stream",
          "text": [
            "1\n"
          ],
          "name": "stdout"
        }
      ]
    },
    {
      "cell_type": "code",
      "metadata": {
        "id": "c46_F26MqEi5",
        "colab_type": "code",
        "colab": {
          "base_uri": "https://localhost:8080/",
          "height": 34
        },
        "outputId": "c0940d30-9f8d-460e-8307-70fea7ad3fec"
      },
      "source": [
        "day1_increase = cumulative_confirmed[1] - cumulative_confirmed_lag[1]\n",
        "print(day1_increase)\n",
        "daily_increase.append(day1_increase)"
      ],
      "execution_count": 45,
      "outputs": [
        {
          "output_type": "stream",
          "text": [
            "0\n"
          ],
          "name": "stdout"
        }
      ]
    },
    {
      "cell_type": "code",
      "metadata": {
        "id": "vfFxCp2vqHXe",
        "colab_type": "code",
        "colab": {
          "base_uri": "https://localhost:8080/",
          "height": 34
        },
        "outputId": "6d907be4-b976-47c3-d7d1-b0ac580d55af"
      },
      "source": [
        "day2_increase = cumulative_confirmed[2] - cumulative_confirmed_lag[2]\n",
        "print(day2_increase)\n",
        "daily_increase.append(day2_increase)"
      ],
      "execution_count": 46,
      "outputs": [
        {
          "output_type": "stream",
          "text": [
            "2\n"
          ],
          "name": "stdout"
        }
      ]
    },
    {
      "cell_type": "code",
      "metadata": {
        "id": "x9uMnR3jqA61",
        "colab_type": "code",
        "colab": {
          "base_uri": "https://localhost:8080/",
          "height": 34
        },
        "outputId": "bc443b98-03c2-4853-f228-27f5b4e51b24"
      },
      "source": [
        "daily_increase"
      ],
      "execution_count": 47,
      "outputs": [
        {
          "output_type": "execute_result",
          "data": {
            "text/plain": [
              "[1, 0, 2]"
            ]
          },
          "metadata": {
            "tags": []
          },
          "execution_count": 47
        }
      ]
    },
    {
      "cell_type": "code",
      "metadata": {
        "id": "UjeYlOs0qX6c",
        "colab_type": "code",
        "colab": {
          "base_uri": "https://localhost:8080/",
          "height": 34
        },
        "outputId": "ea40b1e7-8c93-44f0-b39c-77f91f7e3982"
      },
      "source": [
        "day106_increase = cumulative_confirmed[106] - cumulative_confirmed_lag[106]\n",
        "print(day106_increase)"
      ],
      "execution_count": 48,
      "outputs": [
        {
          "output_type": "stream",
          "text": [
            "1\n"
          ],
          "name": "stdout"
        }
      ]
    },
    {
      "cell_type": "code",
      "metadata": {
        "id": "VxesMACQqaDs",
        "colab_type": "code",
        "colab": {
          "base_uri": "https://localhost:8080/",
          "height": 1000
        },
        "outputId": "45ea3b9b-43d4-43e5-f9d8-17601d7c59b7"
      },
      "source": [
        "daily_increase = []\n",
        "i = 0\n",
        "while i < 107:\n",
        "    dayn_increase = cumulative_confirmed[i] - cumulative_confirmed_lag[i]\n",
        "    print(\"Day {}: 每日新增確診人數 {}\".format(i, dayn_increase))\n",
        "    daily_increase.append(dayn_increase)\n",
        "    i += 1"
      ],
      "execution_count": 49,
      "outputs": [
        {
          "output_type": "stream",
          "text": [
            "Day 0: 每日新增確診人數 1\n",
            "Day 1: 每日新增確診人數 0\n",
            "Day 2: 每日新增確診人數 2\n",
            "Day 3: 每日新增確診人數 0\n",
            "Day 4: 每日新增確診人數 1\n",
            "Day 5: 每日新增確診人數 1\n",
            "Day 6: 每日新增確診人數 3\n",
            "Day 7: 每日新增確診人數 0\n",
            "Day 8: 每日新增確診人數 1\n",
            "Day 9: 每日新增確診人數 1\n",
            "Day 10: 每日新增確診人數 0\n",
            "Day 11: 每日新增確診人數 0\n",
            "Day 12: 每日新增確診人數 0\n",
            "Day 13: 每日新增確診人數 1\n",
            "Day 14: 每日新增確診人數 0\n",
            "Day 15: 每日新增確診人數 5\n",
            "Day 16: 每日新增確診人數 0\n",
            "Day 17: 每日新增確診人數 1\n",
            "Day 18: 每日新增確診人數 1\n",
            "Day 19: 每日新增確診人數 0\n",
            "Day 20: 每日新增確診人數 0\n",
            "Day 21: 每日新增確診人數 0\n",
            "Day 22: 每日新增確診人數 0\n",
            "Day 23: 每日新增確診人數 0\n",
            "Day 24: 每日新增確診人數 0\n",
            "Day 25: 每日新增確診人數 2\n",
            "Day 26: 每日新增確診人數 2\n",
            "Day 27: 每日新增確診人數 0\n",
            "Day 28: 每日新增確診人數 1\n",
            "Day 29: 每日新增確診人數 1\n",
            "Day 30: 每日新增確診人數 2\n",
            "Day 31: 每日新增確診人數 0\n",
            "Day 32: 每日新增確診人數 2\n",
            "Day 33: 每日新增確診人數 2\n",
            "Day 34: 每日新增確診人數 1\n",
            "Day 35: 每日新增確診人數 1\n",
            "Day 36: 每日新增確診人數 0\n",
            "Day 37: 每日新增確診人數 2\n",
            "Day 38: 每日新增確診人數 5\n",
            "Day 39: 每日新增確診人數 1\n",
            "Day 40: 每日新增確診人數 1\n",
            "Day 41: 每日新增確診人數 1\n",
            "Day 42: 每日新增確診人數 0\n",
            "Day 43: 每日新增確診人數 2\n",
            "Day 44: 每日新增確診人數 1\n",
            "Day 45: 每日新增確診人數 0\n",
            "Day 46: 每日新增確診人數 0\n",
            "Day 47: 每日新增確診人數 0\n",
            "Day 48: 每日新增確診人數 2\n",
            "Day 49: 每日新增確診人數 1\n",
            "Day 50: 每日新增確診人數 1\n",
            "Day 51: 每日新增確診人數 1\n",
            "Day 52: 每日新增確診人數 3\n",
            "Day 53: 每日新增確診人數 6\n",
            "Day 54: 每日新增確診人數 8\n",
            "Day 55: 每日新增確診人數 10\n",
            "Day 56: 每日新增確診人數 23\n",
            "Day 57: 每日新增確診人數 8\n",
            "Day 58: 每日新增確診人數 27\n",
            "Day 59: 每日新增確診人數 18\n",
            "Day 60: 每日新增確診人數 16\n",
            "Day 61: 每日新增確診人數 26\n",
            "Day 62: 每日新增確診人數 20\n",
            "Day 63: 每日新增確診人數 20\n",
            "Day 64: 每日新增確診人數 17\n",
            "Day 65: 每日新增確診人數 15\n",
            "Day 66: 每日新增確診人數 16\n",
            "Day 67: 每日新增確診人數 15\n",
            "Day 68: 每日新增確診人數 8\n",
            "Day 69: 每日新增確診人數 16\n",
            "Day 70: 每日新增確診人數 7\n",
            "Day 71: 每日新增確診人數 10\n",
            "Day 72: 每日新增確診人數 9\n",
            "Day 73: 每日新增確診人數 7\n",
            "Day 74: 每日新增確診人數 8\n",
            "Day 75: 每日新增確診人數 10\n",
            "Day 76: 每日新增確診人數 3\n",
            "Day 77: 每日新增確診人數 3\n",
            "Day 78: 每日新增確診人數 1\n",
            "Day 79: 每日新增確診人數 2\n",
            "Day 80: 每日新增確診人數 3\n",
            "Day 81: 每日新增確診人數 3\n",
            "Day 82: 每日新增確診人數 5\n",
            "Day 83: 每日新增確診人數 0\n",
            "Day 84: 每日新增確診人數 2\n",
            "Day 85: 每日新增確診人數 0\n",
            "Day 86: 每日新增確診人數 0\n",
            "Day 87: 每日新增確診人數 3\n",
            "Day 88: 每日新增確診人數 22\n",
            "Day 89: 每日新增確診人數 2\n",
            "Day 90: 每日新增確診人數 3\n",
            "Day 91: 每日新增確診人數 1\n",
            "Day 92: 每日新增確診人數 1\n",
            "Day 93: 每日新增確診人數 1\n",
            "Day 94: 每日新增確診人數 1\n",
            "Day 95: 每日新增確診人數 0\n",
            "Day 96: 每日新增確診人數 0\n",
            "Day 97: 每日新增確診人數 0\n",
            "Day 98: 每日新增確診人數 0\n",
            "Day 99: 每日新增確診人數 0\n",
            "Day 100: 每日新增確診人數 0\n",
            "Day 101: 每日新增確診人數 3\n",
            "Day 102: 每日新增確診人數 4\n",
            "Day 103: 每日新增確診人數 2\n",
            "Day 104: 每日新增確診人數 0\n",
            "Day 105: 每日新增確診人數 1\n",
            "Day 106: 每日新增確診人數 1\n"
          ],
          "name": "stdout"
        }
      ]
    }
  ]
}